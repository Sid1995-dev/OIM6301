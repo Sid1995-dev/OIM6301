{
 "cells": [
  {
   "cell_type": "code",
   "execution_count": 1,
   "id": "7158f341-ef5a-44d7-9c1a-a382a8167be9",
   "metadata": {},
   "outputs": [
    {
     "name": "stdout",
     "output_type": "stream",
     "text": [
      "Hello, World!\n"
     ]
    }
   ],
   "source": [
    "print('Hello, World!')"
   ]
  },
  {
   "cell_type": "code",
   "execution_count": 33,
   "id": "b8de105b-413b-4b13-8eaa-6cc98d83924e",
   "metadata": {},
   "outputs": [
    {
     "ename": "_IncompleteInputError",
     "evalue": "incomplete input (2902524761.py, line 3)",
     "output_type": "error",
     "traceback": [
      "\u001b[0;36m  Cell \u001b[0;32mIn[33], line 3\u001b[0;36m\u001b[0m\n\u001b[0;31m    print('Hello, World'\u001b[0m\n\u001b[0m                        ^\u001b[0m\n\u001b[0;31m_IncompleteInputError\u001b[0m\u001b[0;31m:\u001b[0m incomplete input\n"
     ]
    }
   ],
   "source": [
    "#exercise1 (q1)\n",
    "\n",
    "print('Hello, World'"
   ]
  },
  {
   "cell_type": "code",
   "execution_count": 32,
   "id": "7a4920fc-7e9f-4599-a6a5-9c97af7f6023",
   "metadata": {},
   "outputs": [
    {
     "ename": "NameError",
     "evalue": "name 'Hello' is not defined",
     "output_type": "error",
     "traceback": [
      "\u001b[0;31m---------------------------------------------------------------------------\u001b[0m",
      "\u001b[0;31mNameError\u001b[0m                                 Traceback (most recent call last)",
      "Cell \u001b[0;32mIn[32], line 3\u001b[0m\n\u001b[1;32m      1\u001b[0m \u001b[38;5;66;03m#exercise1 (q2) - attempt pattern 1\u001b[39;00m\n\u001b[0;32m----> 3\u001b[0m \u001b[38;5;28mprint\u001b[39m(Hello, World)\n",
      "\u001b[0;31mNameError\u001b[0m: name 'Hello' is not defined"
     ]
    }
   ],
   "source": [
    "#exercise1 (q2) - attempt pattern 1\n",
    "\n",
    "print(Hello, World)"
   ]
  },
  {
   "cell_type": "code",
   "execution_count": 31,
   "id": "e105a1aa-7046-44d8-be12-be60920473f4",
   "metadata": {},
   "outputs": [
    {
     "ename": "SyntaxError",
     "evalue": "unterminated string literal (detected at line 3) (1274301239.py, line 3)",
     "output_type": "error",
     "traceback": [
      "\u001b[0;36m  Cell \u001b[0;32mIn[31], line 3\u001b[0;36m\u001b[0m\n\u001b[0;31m    print(Hello, World')\u001b[0m\n\u001b[0m                      ^\u001b[0m\n\u001b[0;31mSyntaxError\u001b[0m\u001b[0;31m:\u001b[0m unterminated string literal (detected at line 3)\n"
     ]
    }
   ],
   "source": [
    "#exercise1 (q2) - attempt pattern 2\n",
    "\n",
    "print(Hello, World')"
   ]
  },
  {
   "cell_type": "code",
   "execution_count": 30,
   "id": "c5749110-1b77-4ee1-9858-75095c116a9f",
   "metadata": {},
   "outputs": [
    {
     "data": {
      "text/plain": [
       "4"
      ]
     },
     "execution_count": 30,
     "metadata": {},
     "output_type": "execute_result"
    }
   ],
   "source": [
    "#exercise1 (q3) - attempt pattern 1\n",
    "\n",
    "2++2"
   ]
  },
  {
   "cell_type": "code",
   "execution_count": 29,
   "id": "c9585671-d627-4728-9aba-6e428381e122",
   "metadata": {},
   "outputs": [
    {
     "data": {
      "text/plain": [
       "0"
      ]
     },
     "execution_count": 29,
     "metadata": {},
     "output_type": "execute_result"
    }
   ],
   "source": [
    "#exercise1 (q3) - attempt pattern 2\n",
    "\n",
    "2+-2"
   ]
  },
  {
   "cell_type": "code",
   "execution_count": 7,
   "id": "f10631fb-5e95-4b99-99dd-60ae67c45ac1",
   "metadata": {},
   "outputs": [
    {
     "ename": "SyntaxError",
     "evalue": "leading zeros in decimal integer literals are not permitted; use an 0o prefix for octal integers (114932084.py, line 1)",
     "output_type": "error",
     "traceback": [
      "\u001b[0;36m  Cell \u001b[0;32mIn[7], line 1\u001b[0;36m\u001b[0m\n\u001b[0;31m    2+02\u001b[0m\n\u001b[0m      ^\u001b[0m\n\u001b[0;31mSyntaxError\u001b[0m\u001b[0;31m:\u001b[0m leading zeros in decimal integer literals are not permitted; use an 0o prefix for octal integers\n"
     ]
    }
   ],
   "source": [
    "#exercise1 (q4) - attempt pattern 1\n",
    "\n",
    "2+02"
   ]
  },
  {
   "cell_type": "code",
   "execution_count": 8,
   "id": "b9500840-2c76-40da-a2b5-f6cff0fa0918",
   "metadata": {},
   "outputs": [
    {
     "ename": "SyntaxError",
     "evalue": "leading zeros in decimal integer literals are not permitted; use an 0o prefix for octal integers (2317584903.py, line 1)",
     "output_type": "error",
     "traceback": [
      "\u001b[0;36m  Cell \u001b[0;32mIn[8], line 1\u001b[0;36m\u001b[0m\n\u001b[0;31m    02+2\u001b[0m\n\u001b[0m    ^\u001b[0m\n\u001b[0;31mSyntaxError\u001b[0m\u001b[0;31m:\u001b[0m leading zeros in decimal integer literals are not permitted; use an 0o prefix for octal integers\n"
     ]
    }
   ],
   "source": [
    "#exercise1 (q4) - attempt pattern 2\n",
    "\n",
    "02+2"
   ]
  },
  {
   "cell_type": "code",
   "execution_count": 27,
   "id": "8be21601-de0d-4a22-b967-c9839de9b8b8",
   "metadata": {},
   "outputs": [
    {
     "ename": "SyntaxError",
     "evalue": "invalid syntax (2936213556.py, line 1)",
     "output_type": "error",
     "traceback": [
      "\u001b[0;36m  Cell \u001b[0;32mIn[27], line 1\u001b[0;36m\u001b[0m\n\u001b[0;31m    2 2\u001b[0m\n\u001b[0m      ^\u001b[0m\n\u001b[0;31mSyntaxError\u001b[0m\u001b[0;31m:\u001b[0m invalid syntax\n"
     ]
    }
   ],
   "source": [
    "# exercise1 (q5)\n",
    "\n",
    "2 2"
   ]
  },
  {
   "cell_type": "code",
   "execution_count": 25,
   "id": "fe471f4e-91e2-4a7a-9b73-3a0457b8af51",
   "metadata": {},
   "outputs": [
    {
     "name": "stdout",
     "output_type": "stream",
     "text": [
      "Total Secs: 2562\n"
     ]
    }
   ],
   "source": [
    "# exercise2 (q1)\n",
    "\n",
    "Mins = 42\n",
    "Secs = 42\n",
    "\n",
    "total_Secs_required = Mins * 60 + Secs\n",
    "print(\"Total Secs:\", total_Secs_required)"
   ]
  },
  {
   "cell_type": "code",
   "execution_count": 26,
   "id": "f21cf21a-042f-4608-ada5-1c2a4f1b42f2",
   "metadata": {},
   "outputs": [
    {
     "name": "stdout",
     "output_type": "stream",
     "text": [
      "Miles in 10 kilometers: 6.211180124223602\n"
     ]
    }
   ],
   "source": [
    "# exercise2 (q2)\n",
    "\n",
    "kilometers = 10\n",
    "mile_in_km = 1.61\n",
    "\n",
    "miles = kilometers/mile_in_km\n",
    "print(\"Miles in 10 kilometers:\", miles)"
   ]
  },
  {
   "cell_type": "code",
   "execution_count": 20,
   "id": "6b75ff0f-e9f7-4b45-9609-d36b95adf347",
   "metadata": {},
   "outputs": [
    {
     "name": "stdout",
     "output_type": "stream",
     "text": [
      "Pace: 6 min 52 sec per mile\n",
      "Speed: 8.73 miles/hour\n"
     ]
    }
   ],
   "source": [
    "# exercise2 (q3)\n",
    "\n",
    "# Given values\n",
    "km = 10\n",
    "time_min = 42\n",
    "time_sec = 42\n",
    "\n",
    "# Conversions\n",
    "miles = km/1.61\n",
    "total_seconds = time_min * 60 + time_sec\n",
    "\n",
    "# Pace (time per mile)\n",
    "pace = total_seconds / miles\n",
    "pace_min = int(pace // 60)\n",
    "pace_sec = int(pace % 60)\n",
    "\n",
    "# Speed (miles per hour)\n",
    "speed = miles / (total_seconds / 3600)\n",
    "\n",
    "print(\"Pace:\", pace_min, \"min\", pace_sec, \"sec per mile\")\n",
    "print(\"Speed:\", round(speed, 2), \"miles/hour\")"
   ]
  }
 ],
 "metadata": {
  "kernelspec": {
   "display_name": "Python 3 (ipykernel)",
   "language": "python",
   "name": "python3"
  },
  "language_info": {
   "codemirror_mode": {
    "name": "ipython",
    "version": 3
   },
   "file_extension": ".py",
   "mimetype": "text/x-python",
   "name": "python",
   "nbconvert_exporter": "python",
   "pygments_lexer": "ipython3",
   "version": "3.13.5"
  }
 },
 "nbformat": 4,
 "nbformat_minor": 5
}
